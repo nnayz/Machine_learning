{
 "cells": [
  {
   "cell_type": "markdown",
   "metadata": {},
   "source": [
    "# Least-Square Regression"
   ]
  },
  {
   "cell_type": "markdown",
   "metadata": {},
   "source": [
    "In this programming exercise, you will implement the least-square regression algorithm using only numpy. DO NOT use libraries like scikit-learn or scipy.\n",
    "\n",
    "Use the template provided in this notebook to implement least-square regression and visualize the results.\n",
    "\n",
    "When done, paste the code into the moodle-quiz."
   ]
  },
  {
   "cell_type": "code",
   "execution_count": 1,
   "metadata": {},
   "outputs": [],
   "source": [
    "# importing packages\n",
    "import numpy as np\n",
    "from numpy.typing import ArrayLike\n",
    "import matplotlib.pyplot as plt"
   ]
  },
  {
   "cell_type": "code",
   "execution_count": 2,
   "metadata": {},
   "outputs": [],
   "source": [
    "# Importing data\n",
    "\n",
    "\n",
    "def load_data(name: str) -> tuple[ArrayLike, ArrayLike]:\n",
    "    \"\"\"Loads data from provided .npy files and returns the x and y values.\n",
    "\n",
    "    Args:\n",
    "        name (str): The file name of the .npy file to load.\n",
    "\n",
    "    Returns:\n",
    "        tuple[ArrayLike, ArrayLike]: The x and y values of the data. x and y have shape (n,).\n",
    "    \"\"\"\n",
    "    data = np.load(name)\n",
    "    x, y = data.T\n",
    "    return x, y"
   ]
  },
  {
   "cell_type": "code",
   "execution_count": 3,
   "metadata": {},
   "outputs": [],
   "source": [
    "# Plotting the data and the regression model.\n",
    "\n",
    "\n",
    "def plot(x: ArrayLike, y: ArrayLike, w: ArrayLike = None):\n",
    "    \"\"\"Plot the data and linear regression model.\n",
    "\n",
    "    Only for plotting 2D data.\n",
    "\n",
    "    Args:\n",
    "        x (ArrayLike): The input data of shape (n,).\n",
    "        y (ArrayLike): The output data of shape (n,).\n",
    "        w (ArrayLike, optional): The weight and bias of a linear regression. Defaults to None.\n",
    "    \"\"\"\n",
    "\n",
    "    # Plot the data\n",
    "    plt.scatter(x, y, color='blue', alpha=0.5)\n",
    "\n",
    "    # TODO: also plot the prediction\n",
    "    plt.plot(x, w[0] * x + w[1], color='red')\n",
    "    plt.xlabel('x')\n",
    "    plt.ylabel('y_pred')\n",
    "    plt.title('Linear Regression')\n",
    "    plt.legend(['Data', 'Prediction'])\n",
    "    plt.show()"
   ]
  },
  {
   "cell_type": "code",
   "execution_count": 9,
   "metadata": {},
   "outputs": [],
   "source": [
    "# Least-Squares Regression\n",
    "\n",
    "\n",
    "def regression(x: ArrayLike, y: ArrayLike) -> ArrayLike:\n",
    "    \"\"\"Calculates the linear least-squares regression coefficients.\n",
    "\n",
    "    Args:\n",
    "        x (ArrayLike): The input data of shape (n,).\n",
    "        y (ArrayLike): The output data of shape (n,).\n",
    "\n",
    "    Returns:\n",
    "        ArrayLike: The linear regression coefficients.\n",
    "    \"\"\"\n",
    "\n",
    "    # : Implement least-squares regression\n",
    "    X = np.vstack((x, np.ones(len(x)))).T\n",
    "    w = X.T @ y @ np.linalg.inv(X.T @ X)\n",
    "    return w"
   ]
  },
  {
   "cell_type": "code",
   "execution_count": 5,
   "metadata": {},
   "outputs": [],
   "source": [
    "datasets = [\"dataset0.npy\", \"dataset1.npy\", \"dataset2.npy\", \"dataset3.npy\"]\n",
    "\n",
    "for dataset in datasets:\n",
    "    x, y = load_data(dataset)\n",
    "    w = regression(x, y)\n",
    "    plot(x, y, w)"
   ]
  }
 ],
 "metadata": {
  "kernelspec": {
   "display_name": "venv",
   "language": "python",
   "name": "python3"
  },
  "language_info": {
   "codemirror_mode": {
    "name": "ipython",
    "version": 3
   },
   "file_extension": ".py",
   "mimetype": "text/x-python",
   "name": "python",
   "nbconvert_exporter": "python",
   "pygments_lexer": "ipython3",
   "version": "3.13.2"
  }
 },
 "nbformat": 4,
 "nbformat_minor": 2
}
